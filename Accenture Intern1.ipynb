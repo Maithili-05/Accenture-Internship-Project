{
 "cells": [
  {
   "cell_type": "code",
   "execution_count": 29,
   "metadata": {},
   "outputs": [],
   "source": [
    "import pandas as pd"
   ]
  },
  {
   "cell_type": "code",
   "execution_count": 30,
   "metadata": {},
   "outputs": [],
   "source": [
    "df_Reactions= pd.read_csv(r\"C:\\Users\\dhama\\Downloads\\Reactions.csv\",index_col=0)"
   ]
  },
  {
   "cell_type": "code",
   "execution_count": 31,
   "metadata": {},
   "outputs": [
    {
     "name": "stdout",
     "output_type": "stream",
     "text": [
      "                                 Content ID  \\\n",
      "0      97522e57-d9ab-4bd6-97bf-c24d952602d2   \n",
      "1      97522e57-d9ab-4bd6-97bf-c24d952602d2   \n",
      "2      97522e57-d9ab-4bd6-97bf-c24d952602d2   \n",
      "3      97522e57-d9ab-4bd6-97bf-c24d952602d2   \n",
      "4      97522e57-d9ab-4bd6-97bf-c24d952602d2   \n",
      "...                                     ...   \n",
      "25548  75d6b589-7fae-4a6d-b0d0-752845150e56   \n",
      "25549  75d6b589-7fae-4a6d-b0d0-752845150e56   \n",
      "25550  75d6b589-7fae-4a6d-b0d0-752845150e56   \n",
      "25551  75d6b589-7fae-4a6d-b0d0-752845150e56   \n",
      "25552  75d6b589-7fae-4a6d-b0d0-752845150e56   \n",
      "\n",
      "                                    User ID        Type          Datetime  \n",
      "0                                       NaN         NaN  22-04-2021 15:17  \n",
      "1      5d454588-283d-459d-915d-c48a2cb4c27f     disgust  07-11-2020 09:43  \n",
      "2      92b87fa5-f271-43e0-af66-84fac21052e6     dislike  17-06-2021 12:22  \n",
      "3      163daa38-8b77-48c9-9af6-37a6c1447ac2      scared  18-04-2021 05:13  \n",
      "4      34e8add9-0206-47fd-a501-037b994650a2     disgust  06-01-2021 19:13  \n",
      "...                                     ...         ...               ...  \n",
      "25548  80c9ce48-46f9-4f5e-b3ca-3b698fc2e949     dislike  27-06-2020 09:46  \n",
      "25549  2bd9c167-e06c-47c1-a978-3403d6724606   intrigued  16-02-2021 17:17  \n",
      "25550                                   NaN  interested  12-09-2020 03:54  \n",
      "25551  5ffd8b51-164e-47e2-885e-8b8c46eb63ed     worried  04-11-2020 20:08  \n",
      "25552  4edc3d1a-a7d9-4db6-89c3-f784d9954172     cherish  04-01-2021 04:55  \n",
      "\n",
      "[25553 rows x 4 columns]\n"
     ]
    }
   ],
   "source": [
    "print(df_Reactions)"
   ]
  },
  {
   "cell_type": "code",
   "execution_count": 32,
   "metadata": {},
   "outputs": [],
   "source": [
    "df_Content= pd.read_csv(r\"C:\\Users\\dhama\\Downloads\\Content.csv\",index_col=0)"
   ]
  },
  {
   "cell_type": "code",
   "execution_count": 33,
   "metadata": {},
   "outputs": [],
   "source": [
    "df_ReactionTypes= pd.read_csv(r\"C:\\Users\\dhama\\Downloads\\ReactionTypes.csv\",index_col=0)"
   ]
  },
  {
   "cell_type": "code",
   "execution_count": 34,
   "metadata": {},
   "outputs": [],
   "source": [
    "df_Content=df_Content.replace('\"', '')"
   ]
  },
  {
   "cell_type": "code",
   "execution_count": 35,
   "metadata": {},
   "outputs": [
    {
     "data": {
      "text/html": [
       "<div>\n",
       "<style scoped>\n",
       "    .dataframe tbody tr th:only-of-type {\n",
       "        vertical-align: middle;\n",
       "    }\n",
       "\n",
       "    .dataframe tbody tr th {\n",
       "        vertical-align: top;\n",
       "    }\n",
       "\n",
       "    .dataframe thead th {\n",
       "        text-align: right;\n",
       "    }\n",
       "</style>\n",
       "<table border=\"1\" class=\"dataframe\">\n",
       "  <thead>\n",
       "    <tr style=\"text-align: right;\">\n",
       "      <th></th>\n",
       "      <th>Content ID</th>\n",
       "      <th>User ID</th>\n",
       "      <th>Type</th>\n",
       "      <th>Category</th>\n",
       "      <th>URL</th>\n",
       "    </tr>\n",
       "  </thead>\n",
       "  <tbody>\n",
       "    <tr>\n",
       "      <td>0</td>\n",
       "      <td>97522e57-d9ab-4bd6-97bf-c24d952602d2</td>\n",
       "      <td>8d3cd87d-8a31-4935-9a4f-b319bfe05f31</td>\n",
       "      <td>photo</td>\n",
       "      <td>Studying</td>\n",
       "      <td>https://socialbuzz.cdn.com/content/storage/975...</td>\n",
       "    </tr>\n",
       "    <tr>\n",
       "      <td>1</td>\n",
       "      <td>9f737e0a-3cdd-4d29-9d24-753f4e3be810</td>\n",
       "      <td>beb1f34e-7870-46d6-9fc7-2e12eb83ce43</td>\n",
       "      <td>photo</td>\n",
       "      <td>healthy eating</td>\n",
       "      <td>https://socialbuzz.cdn.com/content/storage/9f7...</td>\n",
       "    </tr>\n",
       "    <tr>\n",
       "      <td>2</td>\n",
       "      <td>230c4e4d-70c3-461d-b42c-ec09396efb3f</td>\n",
       "      <td>a5c65404-5894-4b87-82f2-d787cbee86b4</td>\n",
       "      <td>photo</td>\n",
       "      <td>healthy eating</td>\n",
       "      <td>https://socialbuzz.cdn.com/content/storage/230...</td>\n",
       "    </tr>\n",
       "    <tr>\n",
       "      <td>3</td>\n",
       "      <td>356fff80-da4d-4785-9f43-bc1261031dc6</td>\n",
       "      <td>9fb4ce88-fac1-406c-8544-1a899cee7aaf</td>\n",
       "      <td>photo</td>\n",
       "      <td>technology</td>\n",
       "      <td>https://socialbuzz.cdn.com/content/storage/356...</td>\n",
       "    </tr>\n",
       "    <tr>\n",
       "      <td>4</td>\n",
       "      <td>01ab84dd-6364-4236-abbb-3f237db77180</td>\n",
       "      <td>e206e31b-5f85-4964-b6ea-d7ee5324def1</td>\n",
       "      <td>video</td>\n",
       "      <td>food</td>\n",
       "      <td>https://socialbuzz.cdn.com/content/storage/01a...</td>\n",
       "    </tr>\n",
       "    <tr>\n",
       "      <td>...</td>\n",
       "      <td>...</td>\n",
       "      <td>...</td>\n",
       "      <td>...</td>\n",
       "      <td>...</td>\n",
       "      <td>...</td>\n",
       "    </tr>\n",
       "    <tr>\n",
       "      <td>995</td>\n",
       "      <td>b4cef9ef-627b-41d7-a051-5961b0204ebb</td>\n",
       "      <td>5b62e10e-3c19-4d28-a57c-e9bdc3d6758d</td>\n",
       "      <td>video</td>\n",
       "      <td>public speaking</td>\n",
       "      <td>NaN</td>\n",
       "    </tr>\n",
       "    <tr>\n",
       "      <td>996</td>\n",
       "      <td>7a79f4e4-3b7d-44dc-bdef-bc990740252c</td>\n",
       "      <td>4fe420fa-a193-4408-bd5d-62a020233609</td>\n",
       "      <td>GIF</td>\n",
       "      <td>technology</td>\n",
       "      <td>https://socialbuzz.cdn.com/content/storage/7a7...</td>\n",
       "    </tr>\n",
       "    <tr>\n",
       "      <td>997</td>\n",
       "      <td>435007a5-6261-4d8b-b0a4-55fdc189754b</td>\n",
       "      <td>35d6a1f3-e358-4d4b-8074-05f3b7f35c2a</td>\n",
       "      <td>audio</td>\n",
       "      <td>veganism</td>\n",
       "      <td>https://socialbuzz.cdn.com/content/storage/435...</td>\n",
       "    </tr>\n",
       "    <tr>\n",
       "      <td>998</td>\n",
       "      <td>4e4c9690-c013-4ee7-9e66-943d8cbd27b7</td>\n",
       "      <td>b9bcd994-f000-4f6b-87fc-caae08acfaa1</td>\n",
       "      <td>GIF</td>\n",
       "      <td>culture</td>\n",
       "      <td>https://socialbuzz.cdn.com/content/storage/4e4...</td>\n",
       "    </tr>\n",
       "    <tr>\n",
       "      <td>999</td>\n",
       "      <td>75d6b589-7fae-4a6d-b0d0-752845150e56</td>\n",
       "      <td>b8c653b5-0118-4d7e-9bde-07c2de90f0ff</td>\n",
       "      <td>audio</td>\n",
       "      <td>technology</td>\n",
       "      <td>https://socialbuzz.cdn.com/content/storage/75d...</td>\n",
       "    </tr>\n",
       "  </tbody>\n",
       "</table>\n",
       "<p>1000 rows × 5 columns</p>\n",
       "</div>"
      ],
      "text/plain": [
       "                               Content ID  \\\n",
       "0    97522e57-d9ab-4bd6-97bf-c24d952602d2   \n",
       "1    9f737e0a-3cdd-4d29-9d24-753f4e3be810   \n",
       "2    230c4e4d-70c3-461d-b42c-ec09396efb3f   \n",
       "3    356fff80-da4d-4785-9f43-bc1261031dc6   \n",
       "4    01ab84dd-6364-4236-abbb-3f237db77180   \n",
       "..                                    ...   \n",
       "995  b4cef9ef-627b-41d7-a051-5961b0204ebb   \n",
       "996  7a79f4e4-3b7d-44dc-bdef-bc990740252c   \n",
       "997  435007a5-6261-4d8b-b0a4-55fdc189754b   \n",
       "998  4e4c9690-c013-4ee7-9e66-943d8cbd27b7   \n",
       "999  75d6b589-7fae-4a6d-b0d0-752845150e56   \n",
       "\n",
       "                                  User ID   Type         Category  \\\n",
       "0    8d3cd87d-8a31-4935-9a4f-b319bfe05f31  photo         Studying   \n",
       "1    beb1f34e-7870-46d6-9fc7-2e12eb83ce43  photo   healthy eating   \n",
       "2    a5c65404-5894-4b87-82f2-d787cbee86b4  photo   healthy eating   \n",
       "3    9fb4ce88-fac1-406c-8544-1a899cee7aaf  photo       technology   \n",
       "4    e206e31b-5f85-4964-b6ea-d7ee5324def1  video             food   \n",
       "..                                    ...    ...              ...   \n",
       "995  5b62e10e-3c19-4d28-a57c-e9bdc3d6758d  video  public speaking   \n",
       "996  4fe420fa-a193-4408-bd5d-62a020233609    GIF       technology   \n",
       "997  35d6a1f3-e358-4d4b-8074-05f3b7f35c2a  audio         veganism   \n",
       "998  b9bcd994-f000-4f6b-87fc-caae08acfaa1    GIF          culture   \n",
       "999  b8c653b5-0118-4d7e-9bde-07c2de90f0ff  audio       technology   \n",
       "\n",
       "                                                   URL  \n",
       "0    https://socialbuzz.cdn.com/content/storage/975...  \n",
       "1    https://socialbuzz.cdn.com/content/storage/9f7...  \n",
       "2    https://socialbuzz.cdn.com/content/storage/230...  \n",
       "3    https://socialbuzz.cdn.com/content/storage/356...  \n",
       "4    https://socialbuzz.cdn.com/content/storage/01a...  \n",
       "..                                                 ...  \n",
       "995                                                NaN  \n",
       "996  https://socialbuzz.cdn.com/content/storage/7a7...  \n",
       "997  https://socialbuzz.cdn.com/content/storage/435...  \n",
       "998  https://socialbuzz.cdn.com/content/storage/4e4...  \n",
       "999  https://socialbuzz.cdn.com/content/storage/75d...  \n",
       "\n",
       "[1000 rows x 5 columns]"
      ]
     },
     "execution_count": 35,
     "metadata": {},
     "output_type": "execute_result"
    }
   ],
   "source": [
    "df_Content.rename(columns = {'type':'Content Type'})"
   ]
  },
  {
   "cell_type": "code",
   "execution_count": 36,
   "metadata": {},
   "outputs": [],
   "source": [
    "df_Content = df_Content.drop(['URL'], axis=1)\n"
   ]
  },
  {
   "cell_type": "code",
   "execution_count": 37,
   "metadata": {},
   "outputs": [],
   "source": [
    "df_Content = df_Content.drop(['User ID'], axis=1)"
   ]
  },
  {
   "cell_type": "code",
   "execution_count": 38,
   "metadata": {},
   "outputs": [],
   "source": [
    "df_Reactions= df_Reactions.drop('User ID', axis =1)"
   ]
  },
  {
   "cell_type": "code",
   "execution_count": 39,
   "metadata": {},
   "outputs": [],
   "source": [
    "df_Content=df_Content.rename(columns={'Type' : 'Content Type'})\n",
    "df_Reactions=df_Reactions.rename(columns={'Type' : 'Reaction Type'})\n",
    "df_ReactionTypes=df_ReactionTypes.rename(columns={'Type' : 'Reaction Type'})"
   ]
  },
  {
   "cell_type": "code",
   "execution_count": 40,
   "metadata": {},
   "outputs": [
    {
     "data": {
      "text/plain": [
       "Content ID         0\n",
       "Reaction Type    980\n",
       "Datetime           0\n",
       "dtype: int64"
      ]
     },
     "execution_count": 40,
     "metadata": {},
     "output_type": "execute_result"
    }
   ],
   "source": [
    "df_Reactions.isnull().sum()"
   ]
  },
  {
   "cell_type": "code",
   "execution_count": 41,
   "metadata": {},
   "outputs": [],
   "source": [
    "df_Reactions=df_Reactions.dropna()"
   ]
  },
  {
   "cell_type": "code",
   "execution_count": 42,
   "metadata": {},
   "outputs": [
    {
     "data": {
      "text/plain": [
       "Content ID      0\n",
       "Content Type    0\n",
       "Category        0\n",
       "dtype: int64"
      ]
     },
     "execution_count": 42,
     "metadata": {},
     "output_type": "execute_result"
    }
   ],
   "source": [
    "df_Content.isnull().sum()"
   ]
  },
  {
   "cell_type": "code",
   "execution_count": 43,
   "metadata": {},
   "outputs": [
    {
     "data": {
      "text/plain": [
       "Reaction Type    0\n",
       "Sentiment        0\n",
       "Score            0\n",
       "dtype: int64"
      ]
     },
     "execution_count": 43,
     "metadata": {},
     "output_type": "execute_result"
    }
   ],
   "source": [
    "df_ReactionTypes.isnull().sum()"
   ]
  },
  {
   "cell_type": "code",
   "execution_count": 44,
   "metadata": {},
   "outputs": [
    {
     "name": "stdout",
     "output_type": "stream",
     "text": [
      "                                 Content ID Reaction Type          Datetime\n",
      "1      97522e57-d9ab-4bd6-97bf-c24d952602d2       disgust  07-11-2020 09:43\n",
      "2      97522e57-d9ab-4bd6-97bf-c24d952602d2       dislike  17-06-2021 12:22\n",
      "3      97522e57-d9ab-4bd6-97bf-c24d952602d2        scared  18-04-2021 05:13\n",
      "4      97522e57-d9ab-4bd6-97bf-c24d952602d2       disgust  06-01-2021 19:13\n",
      "5      97522e57-d9ab-4bd6-97bf-c24d952602d2    interested  23-08-2020 12:25\n",
      "...                                     ...           ...               ...\n",
      "25548  75d6b589-7fae-4a6d-b0d0-752845150e56       dislike  27-06-2020 09:46\n",
      "25549  75d6b589-7fae-4a6d-b0d0-752845150e56     intrigued  16-02-2021 17:17\n",
      "25550  75d6b589-7fae-4a6d-b0d0-752845150e56    interested  12-09-2020 03:54\n",
      "25551  75d6b589-7fae-4a6d-b0d0-752845150e56       worried  04-11-2020 20:08\n",
      "25552  75d6b589-7fae-4a6d-b0d0-752845150e56       cherish  04-01-2021 04:55\n",
      "\n",
      "[24573 rows x 3 columns]\n"
     ]
    }
   ],
   "source": [
    "print(df_Reactions)"
   ]
  },
  {
   "cell_type": "code",
   "execution_count": 45,
   "metadata": {},
   "outputs": [],
   "source": [
    "merged12 = pd.merge(left=df_Content, right=df_Reactions, how='inner', left_on='Content ID', right_on='Content ID')"
   ]
  },
  {
   "cell_type": "code",
   "execution_count": 46,
   "metadata": {},
   "outputs": [],
   "source": [
    "final_df= pd.merge(left=merged12, right=df_ReactionTypes, how='left', left_on='Reaction Type', right_on='Reaction Type')"
   ]
  },
  {
   "cell_type": "code",
   "execution_count": 47,
   "metadata": {},
   "outputs": [
    {
     "name": "stdout",
     "output_type": "stream",
     "text": [
      "                                 Content ID Content Type    Category  \\\n",
      "0      97522e57-d9ab-4bd6-97bf-c24d952602d2        photo    Studying   \n",
      "1      97522e57-d9ab-4bd6-97bf-c24d952602d2        photo    Studying   \n",
      "2      97522e57-d9ab-4bd6-97bf-c24d952602d2        photo    Studying   \n",
      "3      97522e57-d9ab-4bd6-97bf-c24d952602d2        photo    Studying   \n",
      "4      97522e57-d9ab-4bd6-97bf-c24d952602d2        photo    Studying   \n",
      "...                                     ...          ...         ...   \n",
      "24568  75d6b589-7fae-4a6d-b0d0-752845150e56        audio  technology   \n",
      "24569  75d6b589-7fae-4a6d-b0d0-752845150e56        audio  technology   \n",
      "24570  75d6b589-7fae-4a6d-b0d0-752845150e56        audio  technology   \n",
      "24571  75d6b589-7fae-4a6d-b0d0-752845150e56        audio  technology   \n",
      "24572  75d6b589-7fae-4a6d-b0d0-752845150e56        audio  technology   \n",
      "\n",
      "      Reaction Type          Datetime Sentiment  Score  \n",
      "0           disgust  07-11-2020 09:43  negative      0  \n",
      "1           dislike  17-06-2021 12:22  negative     10  \n",
      "2            scared  18-04-2021 05:13  negative     15  \n",
      "3           disgust  06-01-2021 19:13  negative      0  \n",
      "4        interested  23-08-2020 12:25  positive     30  \n",
      "...             ...               ...       ...    ...  \n",
      "24568       dislike  27-06-2020 09:46  negative     10  \n",
      "24569     intrigued  16-02-2021 17:17  positive     45  \n",
      "24570    interested  12-09-2020 03:54  positive     30  \n",
      "24571       worried  04-11-2020 20:08  negative     12  \n",
      "24572       cherish  04-01-2021 04:55  positive     70  \n",
      "\n",
      "[24573 rows x 7 columns]\n"
     ]
    }
   ],
   "source": [
    "print(final_df)"
   ]
  },
  {
   "cell_type": "code",
   "execution_count": 48,
   "metadata": {},
   "outputs": [],
   "source": [
    "group_df= final_df.groupby('Category')['Score'].sum()"
   ]
  },
  {
   "cell_type": "code",
   "execution_count": 49,
   "metadata": {},
   "outputs": [],
   "source": [
    "sorted_df= group_df.sort_values(ascending=False)"
   ]
  },
  {
   "cell_type": "code",
   "execution_count": 50,
   "metadata": {},
   "outputs": [],
   "source": [
    "top_five=sorted_df.head(5)"
   ]
  },
  {
   "cell_type": "code",
   "execution_count": 51,
   "metadata": {},
   "outputs": [
    {
     "name": "stdout",
     "output_type": "stream",
     "text": [
      "Category\n",
      "animals           69548\n",
      "healthy eating    69067\n",
      "technology        67472\n",
      "science           66043\n",
      "cooking           63982\n",
      "Name: Score, dtype: int64\n"
     ]
    }
   ],
   "source": [
    "print(top_five)"
   ]
  },
  {
   "cell_type": "code",
   "execution_count": 52,
   "metadata": {},
   "outputs": [],
   "source": [
    "final_df.to_csv('CleanData1.csv', index= False)"
   ]
  },
  {
   "cell_type": "code",
   "execution_count": 53,
   "metadata": {},
   "outputs": [
    {
     "name": "stdout",
     "output_type": "stream",
     "text": [
      "Category\n",
      "animals              69548\n",
      "healthy eating       69067\n",
      "technology           67472\n",
      "science              66043\n",
      "cooking              63982\n",
      "travel               63788\n",
      "food                 63122\n",
      "culture              62915\n",
      "education            56041\n",
      "soccer               52684\n",
      "studying             52382\n",
      "dogs                 50748\n",
      "tennis               50339\n",
      "fitness              49835\n",
      "veganism             47846\n",
      "public speaking      46949\n",
      "Fitness               5488\n",
      "Science               4619\n",
      "Animals               3723\n",
      "Food                  3504\n",
      "Soccer                2631\n",
      "\"soccer\"              2468\n",
      "\"culture\"             2037\n",
      "\"dogs\"                1763\n",
      "\"animals\"             1694\n",
      "Culture               1627\n",
      "Education             1395\n",
      "Studying              1341\n",
      "Public Speaking       1336\n",
      "\"veganism\"            1129\n",
      "Travel                1092\n",
      "\"technology\"          1049\n",
      "\"public speaking\"      979\n",
      "\"cooking\"              774\n",
      "Veganism               644\n",
      "\"studying\"             546\n",
      "\"science\"              506\n",
      "Healthy Eating         272\n",
      "Technology             217\n",
      "\"food\"                  50\n",
      "Name: Score, dtype: int64\n"
     ]
    }
   ],
   "source": [
    "print(sorted_df)"
   ]
  }
 ],
 "metadata": {
  "kernelspec": {
   "display_name": "Python 3",
   "language": "python",
   "name": "python3"
  },
  "language_info": {
   "codemirror_mode": {
    "name": "ipython",
    "version": 3
   },
   "file_extension": ".py",
   "mimetype": "text/x-python",
   "name": "python",
   "nbconvert_exporter": "python",
   "pygments_lexer": "ipython3",
   "version": "3.6.9"
  }
 },
 "nbformat": 4,
 "nbformat_minor": 2
}
